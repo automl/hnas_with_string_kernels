{
 "cells": [
  {
   "cell_type": "code",
   "execution_count": 1,
   "outputs": [],
   "source": [
    "%load_ext autoreload\n",
    "%autoreload 2"
   ],
   "metadata": {
    "collapsed": false
   }
  },
  {
   "cell_type": "code",
   "execution_count": 2,
   "outputs": [],
   "source": [
    "import functools\n",
    "import pathlib\n",
    "\n",
    "import plot_surrogate_regression\n",
    "import utils"
   ],
   "metadata": {
    "collapsed": false
   }
  },
  {
   "cell_type": "markdown",
   "source": [
    "## Constants"
   ],
   "metadata": {
    "collapsed": false
   }
  },
  {
   "cell_type": "code",
   "execution_count": 3,
   "outputs": [],
   "source": [
    "CURRENT_PATH = pathlib.Path().cwd()\n",
    "DATA_BASE_PATH = pathlib.Path(\"/home/birinxhl/automl/automl_conf/hnas_with_string_kernels/results/surrogate_regression\")\n",
    "PLOTS_PATH = CURRENT_PATH / \"figures\""
   ],
   "metadata": {
    "collapsed": false
   }
  },
  {
   "cell_type": "code",
   "execution_count": 4,
   "outputs": [],
   "source": [
    "if not DATA_BASE_PATH.is_dir():\n",
    "    raise ValueError()"
   ],
   "metadata": {
    "collapsed": false
   }
  },
  {
   "cell_type": "code",
   "execution_count": 5,
   "outputs": [],
   "source": [
    "N_TRAIN_TICKS = (10, 25, 50, 75, 100, 150, 200, 300, 400)\n",
    "SEEDS = tuple(range(20))\n",
    "\n",
    "# models\n",
    "hNASK = utils.Model(experiment_name=\"final_all\", code=\"gp_string_hierarchical\", name=\"hNASK\")\n",
    "hWL = utils.Model(experiment_name=\"final_all\", code=\"gp_hierarchical\", name=\"hWL\")\n",
    "WL = utils.Model(experiment_name=\"final_all\", code=\"gp\", name=\"WL\")\n",
    "NASK_Some = utils.Model(experiment_name=\"final_nask_some_hierarchies\", code=\"gp_string_hierarchical\", name=\"NASK-Some\")\n",
    "NASK_Single = utils.Model(experiment_name=\"final_nask_single_hierarchy\", code=\"gp_string_hierarchical\", name=\"NASK-Single\")"
   ],
   "metadata": {
    "collapsed": false
   }
  },
  {
   "cell_type": "code",
   "execution_count": 6,
   "outputs": [],
   "source": [
    "datasets = [\n",
    "    utils.Dataset(code=\"nb201_cifar10\", name=\"CIFAR-10\"),\n",
    "    utils.Dataset(code=\"nb201_cifar100\", name=\"CIFAR-100\"),\n",
    "    utils.Dataset(code=\"nb201_ImageNet16-120\", name=\"ImageNet16-120\"),\n",
    "    utils.Dataset(code=\"nb201_cifarTile\", name=\"CIFARTile\"),\n",
    "    utils.Dataset(code=\"nb201_addNIST\", name=\"AddNIST\"),\n",
    "]\n",
    "plot_surrogate_regression = functools.partial(\n",
    "    plot_surrogate_regression.surrogate_exp_nb201,\n",
    "    datasets=datasets,\n",
    "    n_train_ticks=N_TRAIN_TICKS,\n",
    "    seeds=SEEDS,\n",
    "    data_base_path=DATA_BASE_PATH,\n",
    ")"
   ],
   "metadata": {
    "collapsed": false
   }
  },
  {
   "cell_type": "code",
   "execution_count": 7,
   "metadata": {
    "scrolled": true
   },
   "outputs": [
    {
     "name": "stdout",
     "output_type": "stream",
     "text": [
      "Saved to \"figures/surrogate__hNASK_hWL_WL__spearman.pdf\"\n",
      "Saved to \"figures/surrogate__hNASK_hWL_WL__pearson.pdf\"\n",
      "Saved to \"figures/surrogate__hNASK_hWL_WL__kendalltau.pdf\"\n"
     ]
    }
   ],
   "source": [
    "for metric in [\"spearman\", \"pearson\", \"kendalltau\"]:\n",
    "    plot_surrogate_regression(models=(hNASK, hWL, WL), metric=metric)"
   ]
  },
  {
   "cell_type": "code",
   "execution_count": 8,
   "outputs": [
    {
     "name": "stdout",
     "output_type": "stream",
     "text": [
      "Saved to \"figures/surrogate__hNASK_NASK-Some_NASK-Single__spearman.pdf\"\n",
      "Saved to \"figures/surrogate__hNASK_NASK-Some_NASK-Single__pearson.pdf\"\n",
      "Saved to \"figures/surrogate__hNASK_NASK-Some_NASK-Single__kendalltau.pdf\"\n"
     ]
    }
   ],
   "source": [
    "for metric in [\"spearman\", \"pearson\", \"kendalltau\"]:\n",
    "    plot_surrogate_regression(models=(hNASK, NASK_Some, NASK_Single), metric=metric)"
   ],
   "metadata": {
    "collapsed": false
   }
  },
  {
   "cell_type": "code",
   "execution_count": 8,
   "outputs": [],
   "source": [],
   "metadata": {
    "collapsed": false
   }
  }
 ],
 "metadata": {
  "kernelspec": {
   "display_name": "Python 3 (ipykernel)",
   "language": "python",
   "name": "python3"
  },
  "language_info": {
   "codemirror_mode": {
    "name": "ipython",
    "version": 3
   },
   "file_extension": ".py",
   "mimetype": "text/x-python",
   "name": "python",
   "nbconvert_exporter": "python",
   "pygments_lexer": "ipython3",
   "version": "3.7.12"
  }
 },
 "nbformat": 4,
 "nbformat_minor": 1
}
